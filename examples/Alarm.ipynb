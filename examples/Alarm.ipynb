{
 "cells": [
  {
   "cell_type": "code",
   "execution_count": 1,
   "metadata": {
    "slideshow": {
     "slide_type": "skip"
    }
   },
   "outputs": [],
   "source": [
    "from alarm_network import *"
   ]
  },
  {
   "cell_type": "markdown",
   "metadata": {
    "slideshow": {
     "slide_type": "slide"
    }
   },
   "source": [
    "## Operationen für CPT (Conditional Probability Tables)"
   ]
  },
  {
   "cell_type": "markdown",
   "metadata": {
    "slideshow": {
     "slide_type": "-"
    }
   },
   "source": [
    "Definiert sind die Funktionen (mit ihrer Domäne)\n",
    "- `P_Dieb(D)`: $P(D)$\n",
    "- `P_Sturm(S)`: $P(S)$\n",
    "- `CP_Radio(R,S)`: $P(R\\,|\\,S)$\n",
    "- `CP_Alarm(A,D,S)`: $P(A\\,|\\,D,S)$\n",
    "- `CP_Wachdienst(W,A)`: $P(W\\,|\\,A)$"
   ]
  },
  {
   "cell_type": "code",
   "execution_count": 7,
   "metadata": {},
   "outputs": [
    {
     "data": {
      "text/plain": [
       "0.9"
      ]
     },
     "execution_count": 7,
     "metadata": {},
     "output_type": "execute_result"
    }
   ],
   "source": [
    "CP_Radio(S=True, R=True)"
   ]
  },
  {
   "cell_type": "code",
   "execution_count": 8,
   "metadata": {},
   "outputs": [
    {
     "name": "stdout",
     "output_type": "stream",
     "text": [
      "{'R': [True, False], 'S': [True, False]}\n"
     ]
    }
   ],
   "source": [
    "print(CP_Radio.domain)"
   ]
  },
  {
   "cell_type": "code",
   "execution_count": 12,
   "metadata": {},
   "outputs": [
    {
     "name": "stdout",
     "output_type": "stream",
     "text": [
      "R, S            Value\n",
      "------------  -------\n",
      "True, True        0.9\n",
      "True, False       0.1\n",
      "False, True       0.1\n",
      "False, False      0.9\n"
     ]
    }
   ],
   "source": [
    "PrintTable(CP_Radio)"
   ]
  },
  {
   "cell_type": "markdown",
   "metadata": {
    "slideshow": {
     "slide_type": "subslide"
    }
   },
   "source": [
    "Jetzt erzeugen wir die multivariate Verteilung anhand der Kettenregel $$P(R,S) = P(S)P(R\\,|\\,S)$$"
   ]
  },
  {
   "cell_type": "code",
   "execution_count": 13,
   "metadata": {},
   "outputs": [
    {
     "name": "stdout",
     "output_type": "stream",
     "text": [
      "S, R            Value\n",
      "------------  -------\n",
      "True, True      0.009\n",
      "True, False     0.001\n",
      "False, True     0.099\n",
      "False, False    0.891\n"
     ]
    }
   ],
   "source": [
    "P_RS = Joint(P_Sturm, CP_Radio)\n",
    "PrintTable(P_RS)"
   ]
  },
  {
   "cell_type": "markdown",
   "metadata": {
    "slideshow": {
     "slide_type": "subslide"
    }
   },
   "source": [
    "Daraus folgert die Marginalverteilung\n",
    "$$P(R=r) = \\sum_{s\\in \\mathcal S} P(R=r,S=s)$$"
   ]
  },
  {
   "cell_type": "code",
   "execution_count": 14,
   "metadata": {},
   "outputs": [
    {
     "name": "stdout",
     "output_type": "stream",
     "text": [
      "R        Value\n",
      "-----  -------\n",
      "True     0.108\n",
      "False    0.892\n"
     ]
    }
   ],
   "source": [
    "P_R = Marginal(P_RS, 'R')\n",
    "PrintTable(P_R)"
   ]
  },
  {
   "cell_type": "markdown",
   "metadata": {
    "slideshow": {
     "slide_type": "subslide"
    }
   },
   "source": [
    "Bei einer Beobachtung verschwindet die beobachtete Variable vom Träger der a posteriori Verteilung\n",
    "$$P(R=r\\,|\\,S=s_{\\texttt{t}}) = \\frac{P(R=r,S=s_{\\texttt{t}})}{\\sum_{r'\\in \\mathcal R}P(R=r', S=s_{\\texttt{t}})}$$"
   ]
  },
  {
   "cell_type": "code",
   "execution_count": 15,
   "metadata": {},
   "outputs": [
    {
     "name": "stdout",
     "output_type": "stream",
     "text": [
      "R        Value\n",
      "-----  -------\n",
      "True       0.9\n",
      "False      0.1\n"
     ]
    }
   ],
   "source": [
    "P_R_given_S = Observe(P_RS, S=True)\n",
    "PrintTable(P_R_given_S)"
   ]
  },
  {
   "cell_type": "markdown",
   "metadata": {
    "slideshow": {
     "slide_type": "slide"
    }
   },
   "source": [
    "## Wie wahrscheinlich ist ein Einbruch?"
   ]
  },
  {
   "cell_type": "code",
   "execution_count": 16,
   "metadata": {},
   "outputs": [
    {
     "name": "stdout",
     "output_type": "stream",
     "text": [
      "D, S, R, A, W                            Value\n",
      "---------------------------------  -----------\n",
      "True, True, True, True, True       7.695e-06\n",
      "True, True, True, True, False      8.55e-07\n",
      "True, True, True, False, True      4.5e-08\n",
      "True, True, True, False, False     4.05e-07\n",
      "True, True, False, True, True      8.55e-07\n",
      "True, True, False, True, False     9.5e-08\n",
      "True, True, False, False, True     5e-09\n",
      "True, True, False, False, False    4.5e-08\n",
      "True, False, True, True, True      8.019e-05\n",
      "True, False, True, True, False     8.91e-06\n",
      "True, False, True, False, True     9.9e-07\n",
      "True, False, True, False, False    8.91e-06\n",
      "True, False, False, True, True     0.00072171\n",
      "True, False, False, True, False    8.019e-05\n",
      "True, False, False, False, True    8.91e-06\n",
      "True, False, False, False, False   8.019e-05\n",
      "False, True, True, True, True      0.00404595\n",
      "False, True, True, True, False     0.00044955\n",
      "False, True, True, False, True     0.00044955\n",
      "False, True, True, False, False    0.00404595\n",
      "False, True, False, True, True     0.00044955\n",
      "False, True, False, True, False    4.995e-05\n",
      "False, True, False, False, True    4.995e-05\n",
      "False, True, False, False, False   0.00044955\n",
      "False, False, True, True, True     0.000890109\n",
      "False, False, True, True, False    9.8901e-05\n",
      "False, False, True, False, True    0.0097912\n",
      "False, False, True, False, False   0.0881208\n",
      "False, False, False, True, True    0.00801098\n",
      "False, False, False, True, False   0.000890109\n",
      "False, False, False, False, True   0.0881208\n",
      "False, False, False, False, False  0.793087\n"
     ]
    }
   ],
   "source": [
    "P_DSRAW = reduce(Joint, [P_Dieb, P_Sturm, CP_Radio, CP_Alarm, CP_Wachdienst])\n",
    "PrintTable(P_DSRAW)"
   ]
  },
  {
   "cell_type": "code",
   "execution_count": 18,
   "metadata": {},
   "outputs": [
    {
     "name": "stdout",
     "output_type": "stream",
     "text": [
      "D          Value\n",
      "-----  ---------\n",
      "True   0.0786842\n",
      "False  0.921316\n"
     ]
    }
   ],
   "source": [
    "P_post = Observe(P_DSRAW, A=True, R=False)\n",
    "P_postD = Marginal(P_post, 'D')\n",
    "PrintTable(P_postD)"
   ]
  },
  {
   "cell_type": "markdown",
   "metadata": {
    "slideshow": {
     "slide_type": "slide"
    }
   },
   "source": [
    "## Unabhängigkeiten bei Beobachtungen\n",
    "### Quiz I: $R$ wird beobachtet. Sind $S$ und $D$ unabhängig?"
   ]
  },
  {
   "cell_type": "code",
   "execution_count": 19,
   "metadata": {},
   "outputs": [
    {
     "name": "stdout",
     "output_type": "stream",
     "text": [
      "D, S                Value\n",
      "------------  -----------\n",
      "True, True    8.33333e-05\n",
      "True, False   0.000916667\n",
      "False, True   0.08325\n",
      "False, False  0.91575\n",
      "D, S                Value\n",
      "------------  -----------\n",
      "True, True    8.33333e-05\n",
      "True, False   0.000916667\n",
      "False, True   0.08325\n",
      "False, False  0.91575\n"
     ]
    }
   ],
   "source": [
    "P_postR = Observe(P_DSRAW, R=True)\n",
    "P_postR_DS = Joint(Marginal(P_postR, 'D'), Marginal(P_postR, 'S'))\n",
    "P_postR_DS2 = Marginal(P_postR, ['D','S'])\n",
    "PrintTable(P_postR_DS)\n",
    "PrintTable(P_postR_DS2)"
   ]
  },
  {
   "cell_type": "markdown",
   "metadata": {
    "slideshow": {
     "slide_type": "subslide"
    }
   },
   "source": [
    "### Quiz II: $A$ wird beobachtet. Sind $D$ und $W$ unabhängig?"
   ]
  },
  {
   "cell_type": "code",
   "execution_count": 15,
   "metadata": {},
   "outputs": [
    {
     "name": "stdout",
     "output_type": "stream",
     "text": [
      "W, D               Value\n",
      "------------  ----------\n",
      "True, True    0.0513411\n",
      "True, False   0.848659\n",
      "False, True   0.00570457\n",
      "False, False  0.0942954\n",
      "W, D               Value\n",
      "------------  ----------\n",
      "True, True    0.0513411\n",
      "True, False   0.848659\n",
      "False, True   0.00570457\n",
      "False, False  0.0942954\n"
     ]
    }
   ],
   "source": [
    "P_postA = Observe(P_DSRAW, A=True)\n",
    "P_postA_DW = Joint(Marginal(P_postA, 'D'), Marginal(P_postA, 'W'))\n",
    "P_postA_DW2 = Marginal(P_postA, ['D','W'])\n",
    "PrintTable(P_postA_DW)\n",
    "PrintTable(P_postA_DW2)"
   ]
  },
  {
   "cell_type": "markdown",
   "metadata": {
    "slideshow": {
     "slide_type": "subslide"
    }
   },
   "source": [
    "### Quiz III: Sind $A$ und $R$ unabhängig?"
   ]
  },
  {
   "cell_type": "code",
   "execution_count": null,
   "metadata": {},
   "outputs": [],
   "source": [
    "P_AR = Joint(Marginal(P_DSRAW, 'A'), Marginal(P_DSRAW, 'R'))\n",
    "P_AR2 = Marginal(P_DSRAW, ['A','R'])\n",
    "PrintTable(P_AR)\n",
    "PrintTable(P_AR2)"
   ]
  },
  {
   "cell_type": "markdown",
   "metadata": {
    "slideshow": {
     "slide_type": "subslide"
    }
   },
   "source": [
    "### Quiz IV: $S$ wird beobachtet. Sind $A$ und $R$ unabhängig?"
   ]
  },
  {
   "cell_type": "code",
   "execution_count": null,
   "metadata": {},
   "outputs": [],
   "source": [
    "P_postS = Observe(P_DSRAW, S=True)\n",
    "P_postS_AR = Joint(Marginal(P_postS, 'A'), Marginal(P_postS, 'R'))\n",
    "P_postS_AR2 = Marginal(P_postS, ['A','R'])\n",
    "PrintTable(P_postS_AR)\n",
    "PrintTable(P_postS_AR2)"
   ]
  },
  {
   "cell_type": "markdown",
   "metadata": {
    "slideshow": {
     "slide_type": "subslide"
    }
   },
   "source": [
    "### Quiz V: $W$ wird beobachtet. Sind $D$ und $S$ unabhängig?"
   ]
  },
  {
   "cell_type": "code",
   "execution_count": null,
   "metadata": {},
   "outputs": [],
   "source": [
    "P_postW = Observe(P_DSRAW, W=True)\n",
    "P_postW_DS = Joint(Marginal(P_postW, 'D'), Marginal(P_postW, 'S'))\n",
    "P_postW_DS2 = Marginal(P_postW, ['D','S'])\n",
    "PrintTable(P_postW_DS)\n",
    "PrintTable(P_postW_DS2)"
   ]
  }
 ],
 "metadata": {
  "celltoolbar": "Slideshow",
  "kernelspec": {
   "display_name": "Python 3 (ipykernel)",
   "language": "python",
   "name": "python3"
  },
  "language_info": {
   "codemirror_mode": {
    "name": "ipython",
    "version": 3
   },
   "file_extension": ".py",
   "mimetype": "text/x-python",
   "name": "python",
   "nbconvert_exporter": "python",
   "pygments_lexer": "ipython3",
   "version": "3.11.3"
  }
 },
 "nbformat": 4,
 "nbformat_minor": 1
}
